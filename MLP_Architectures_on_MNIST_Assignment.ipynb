{
 "cells": [
  {
   "cell_type": "markdown",
   "metadata": {
    "colab_type": "text",
    "id": "lOeTEFEJus3b"
   },
   "source": [
    "# **MLP Architectures on MNIST Dataset**"
   ]
  },
  {
   "cell_type": "code",
   "execution_count": 0,
   "metadata": {
    "colab": {},
    "colab_type": "code",
    "id": "cmdn2CLfZ0SI"
   },
   "outputs": [],
   "source": [
    "from keras.utils import np_utils \n",
    "from keras.datasets import mnist\n",
    "\n",
    "import seaborn as sns\n",
    "\n",
    "from keras.layers import Dropout\n",
    "from keras.layers.normalization import BatchNormalization\n",
    "from keras.initializers import RandomNormal\n",
    "from keras.initializers import he_normal\n",
    "\n",
    "from keras.models import Sequential \n",
    "from keras.layers import Dense, Activation "
   ]
  },
  {
   "cell_type": "code",
   "execution_count": 0,
   "metadata": {
    "colab": {},
    "colab_type": "code",
    "id": "aeJNC77fZ9Dd"
   },
   "outputs": [],
   "source": [
    "%matplotlib inline\n",
    "import matplotlib.pyplot as plt\n",
    "import numpy as np\n",
    "import time\n",
    "\n",
    "# this function is used to update the plots for each epoch and error\n",
    "def plt_dynamic(x, vy, ty, ax, fig):\n",
    "    ax.plot(x, vy, 'b', label=\"Validation Loss\")\n",
    "    ax.plot(x, ty, 'r', label=\"Train Loss\")\n",
    "    plt.legend()\n",
    "    plt.grid()\n",
    "    fig.canvas.draw()"
   ]
  },
  {
   "cell_type": "code",
   "execution_count": 0,
   "metadata": {
    "colab": {},
    "colab_type": "code",
    "id": "fLTlwgucaPYM"
   },
   "outputs": [],
   "source": [
    "# the data, shuffled and split between train and test sets \n",
    "(X_train, y_train), (X_test, y_test) = mnist.load_data()"
   ]
  },
  {
   "cell_type": "code",
   "execution_count": 82,
   "metadata": {
    "colab": {
     "base_uri": "https://localhost:8080/",
     "height": 54
    },
    "colab_type": "code",
    "id": "VxhJBPeSaPlU",
    "outputId": "99696f14-4286-4040-feb6-f0ed3f393bd3"
   },
   "outputs": [
    {
     "name": "stdout",
     "output_type": "stream",
     "text": [
      "Number of training examples : 60000 and each image is of shape (28, 28)\n",
      "Number of training examples : 10000 and each image is of shape (28, 28)\n"
     ]
    }
   ],
   "source": [
    "print(\"Number of training examples :\", X_train.shape[0], \"and each image is of shape (%d, %d)\"%(X_train.shape[1], X_train.shape[2]))\n",
    "print(\"Number of training examples :\", X_test.shape[0], \"and each image is of shape (%d, %d)\"%(X_test.shape[1], X_test.shape[2]))"
   ]
  },
  {
   "cell_type": "code",
   "execution_count": 0,
   "metadata": {
    "colab": {},
    "colab_type": "code",
    "id": "ObhaA0AlaPn_"
   },
   "outputs": [],
   "source": [
    "# if you observe the input shape its 3 dimensional vector\n",
    "# for each image we have a (28*28) vector\n",
    "# we will convert the (28*28) vector into single dimensional vector of 1 * 784 \n",
    "\n",
    "X_train = X_train.reshape(X_train.shape[0], X_train.shape[1]*X_train.shape[2]) \n",
    "X_test = X_test.reshape(X_test.shape[0], X_test.shape[1]*X_test.shape[2]) "
   ]
  },
  {
   "cell_type": "code",
   "execution_count": 84,
   "metadata": {
    "colab": {
     "base_uri": "https://localhost:8080/",
     "height": 54
    },
    "colab_type": "code",
    "id": "1zmD-iyYaPqc",
    "outputId": "66c39e97-874a-43fe-fb1f-fc5f082fb539"
   },
   "outputs": [
    {
     "name": "stdout",
     "output_type": "stream",
     "text": [
      "Number of training examples : 60000 and each image is of shape (784)\n",
      "Number of training examples : 10000 and each image is of shape (784)\n"
     ]
    }
   ],
   "source": [
    "# after converting the input images from 3d to 2d vectors\n",
    "\n",
    "print(\"Number of training examples :\", X_train.shape[0], \"and each image is of shape (%d)\"%(X_train.shape[1]))\n",
    "print(\"Number of training examples :\", X_test.shape[0], \"and each image is of shape (%d)\"%(X_test.shape[1]))"
   ]
  },
  {
   "cell_type": "code",
   "execution_count": 0,
   "metadata": {
    "colab": {},
    "colab_type": "code",
    "id": "qem9FO7OaPs2"
   },
   "outputs": [],
   "source": [
    "# if we observe the above matrix each cell is having a value between 0-255\n",
    "# before we move to apply machine learning algorithms lets try to normalize the data\n",
    "# X => (X - Xmin)/(Xmax-Xmin) = X/255\n",
    "\n",
    "X_train = X_train/255\n",
    "X_test = X_test/255"
   ]
  },
  {
   "cell_type": "code",
   "execution_count": 86,
   "metadata": {
    "colab": {
     "base_uri": "https://localhost:8080/",
     "height": 54
    },
    "colab_type": "code",
    "id": "EGV_nbVgaPvR",
    "outputId": "77fd7db4-0911-4bf6-86f4-88722eb91b7a"
   },
   "outputs": [
    {
     "name": "stdout",
     "output_type": "stream",
     "text": [
      "Class label of sixth image : 2\n",
      "After converting the output into a vector :  [0. 0. 1. 0. 0. 0. 0. 0. 0. 0.]\n"
     ]
    }
   ],
   "source": [
    "# here we are having a class number for each image\n",
    "print(\"Class label of sixth image :\", y_train[5])\n",
    "\n",
    "# lets convert this into a 10 dimensional vector\n",
    "# ex: consider an image is 5 convert it into 5 => [0, 0, 0, 0, 0, 1, 0, 0, 0, 0]\n",
    "# this conversion needed for MLPs \n",
    "\n",
    "Y_train = np_utils.to_categorical(y_train, 10) \n",
    "Y_test = np_utils.to_categorical(y_test, 10)\n",
    "\n",
    "print(\"After converting the output into a vector : \",Y_train[5])"
   ]
  },
  {
   "cell_type": "code",
   "execution_count": 0,
   "metadata": {
    "colab": {},
    "colab_type": "code",
    "id": "igkVqraTaP0J"
   },
   "outputs": [],
   "source": [
    "# some model parameters\n",
    "\n",
    "output_dim = 10\n",
    "input_dim = X_train.shape[1]\n",
    "\n",
    "batch_size = 120 \n",
    "nb_epoch = 20"
   ]
  },
  {
   "cell_type": "markdown",
   "metadata": {
    "colab_type": "text",
    "id": "f9ua-AW_b8MK"
   },
   "source": [
    "### **MLP + RELU + ADAM**"
   ]
  },
  {
   "cell_type": "markdown",
   "metadata": {
    "colab_type": "text",
    "id": "KiGVsgkLc6ud"
   },
   "source": [
    "**2-Layer Architecture **"
   ]
  },
  {
   "cell_type": "code",
   "execution_count": 119,
   "metadata": {
    "colab": {
     "base_uri": "https://localhost:8080/",
     "height": 1126
    },
    "colab_type": "code",
    "id": "Y4OfVR-1aP2n",
    "outputId": "64e77ea6-7350-4ad9-aeed-259eb9c43cb9"
   },
   "outputs": [
    {
     "name": "stdout",
     "output_type": "stream",
     "text": [
      "_________________________________________________________________\n",
      "Layer (type)                 Output Shape              Param #   \n",
      "=================================================================\n",
      "dense_76 (Dense)             (None, 264)               207240    \n",
      "_________________________________________________________________\n",
      "dropout_49 (Dropout)         (None, 264)               0         \n",
      "_________________________________________________________________\n",
      "dense_77 (Dense)             (None, 64)                16960     \n",
      "_________________________________________________________________\n",
      "batch_normalization_23 (Batc (None, 64)                256       \n",
      "_________________________________________________________________\n",
      "dropout_50 (Dropout)         (None, 64)                0         \n",
      "_________________________________________________________________\n",
      "dense_78 (Dense)             (None, 10)                650       \n",
      "=================================================================\n",
      "Total params: 225,106\n",
      "Trainable params: 224,978\n",
      "Non-trainable params: 128\n",
      "_________________________________________________________________\n",
      "None\n",
      "Train on 60000 samples, validate on 10000 samples\n",
      "Epoch 1/20\n",
      "60000/60000 [==============================] - 10s 173us/step - loss: 0.6167 - acc: 0.8127 - val_loss: 0.1831 - val_acc: 0.9460\n",
      "Epoch 2/20\n",
      "60000/60000 [==============================] - 7s 115us/step - loss: 0.2807 - acc: 0.9199 - val_loss: 0.1277 - val_acc: 0.9600\n",
      "Epoch 3/20\n",
      "60000/60000 [==============================] - 7s 118us/step - loss: 0.2170 - acc: 0.9379 - val_loss: 0.1104 - val_acc: 0.9658\n",
      "Epoch 4/20\n",
      "60000/60000 [==============================] - 7s 115us/step - loss: 0.1861 - acc: 0.9462 - val_loss: 0.0957 - val_acc: 0.9716\n",
      "Epoch 5/20\n",
      "60000/60000 [==============================] - 7s 118us/step - loss: 0.1661 - acc: 0.9518 - val_loss: 0.0991 - val_acc: 0.9703\n",
      "Epoch 6/20\n",
      "60000/60000 [==============================] - 7s 119us/step - loss: 0.1479 - acc: 0.9565 - val_loss: 0.0915 - val_acc: 0.9722\n",
      "Epoch 7/20\n",
      "60000/60000 [==============================] - 7s 119us/step - loss: 0.1379 - acc: 0.9595 - val_loss: 0.0862 - val_acc: 0.9740\n",
      "Epoch 8/20\n",
      "60000/60000 [==============================] - 7s 123us/step - loss: 0.1303 - acc: 0.9618 - val_loss: 0.0795 - val_acc: 0.9760\n",
      "Epoch 9/20\n",
      "60000/60000 [==============================] - 7s 119us/step - loss: 0.1205 - acc: 0.9651 - val_loss: 0.0769 - val_acc: 0.9774\n",
      "Epoch 10/20\n",
      "60000/60000 [==============================] - 7s 117us/step - loss: 0.1174 - acc: 0.9649 - val_loss: 0.0795 - val_acc: 0.9762\n",
      "Epoch 11/20\n",
      "60000/60000 [==============================] - 7s 120us/step - loss: 0.1089 - acc: 0.9683 - val_loss: 0.0730 - val_acc: 0.9784\n",
      "Epoch 12/20\n",
      "60000/60000 [==============================] - 7s 119us/step - loss: 0.1059 - acc: 0.9688 - val_loss: 0.0718 - val_acc: 0.9794\n",
      "Epoch 13/20\n",
      "60000/60000 [==============================] - 7s 120us/step - loss: 0.1003 - acc: 0.9700 - val_loss: 0.0762 - val_acc: 0.9779\n",
      "Epoch 14/20\n",
      "60000/60000 [==============================] - 7s 120us/step - loss: 0.0985 - acc: 0.9708 - val_loss: 0.0702 - val_acc: 0.9798\n",
      "Epoch 15/20\n",
      "60000/60000 [==============================] - 7s 122us/step - loss: 0.0924 - acc: 0.9725 - val_loss: 0.0723 - val_acc: 0.9783\n",
      "Epoch 16/20\n",
      "60000/60000 [==============================] - 7s 115us/step - loss: 0.0887 - acc: 0.9733 - val_loss: 0.0674 - val_acc: 0.9809\n",
      "Epoch 17/20\n",
      "60000/60000 [==============================] - 7s 115us/step - loss: 0.0851 - acc: 0.9751 - val_loss: 0.0715 - val_acc: 0.9803\n",
      "Epoch 18/20\n",
      "60000/60000 [==============================] - 7s 118us/step - loss: 0.0841 - acc: 0.9744 - val_loss: 0.0685 - val_acc: 0.9814\n",
      "Epoch 19/20\n",
      "60000/60000 [==============================] - 7s 117us/step - loss: 0.0830 - acc: 0.9755 - val_loss: 0.0659 - val_acc: 0.9816\n",
      "Epoch 20/20\n",
      "60000/60000 [==============================] - 8s 129us/step - loss: 0.0784 - acc: 0.9769 - val_loss: 0.0660 - val_acc: 0.9818\n"
     ]
    }
   ],
   "source": [
    "model_relu = Sequential()\n",
    "\n",
    "model_relu.add(Dense(264, activation='relu', input_shape=(input_dim,), kernel_initializer=he_normal(seed=None)))\n",
    "#model_relu.add(BatchNormalization())\n",
    "model_relu.add(Dropout(0.5))\n",
    "\n",
    "model_relu.add(Dense(64, activation='relu', kernel_initializer=he_normal(seed=None)))\n",
    "model_relu.add(BatchNormalization())\n",
    "model_relu.add(Dropout(0.5))\n",
    "\n",
    "model_relu.add(Dense(output_dim, activation='softmax'))\n",
    "\n",
    "\n",
    "\n",
    "print(model_relu.summary())\n",
    "\n",
    "model_relu.compile(optimizer='adam', loss='categorical_crossentropy', metrics=['accuracy'])\n",
    "\n",
    "history = model_relu.fit(X_train, Y_train, batch_size=batch_size, epochs=nb_epoch, verbose=1, validation_data=(X_test, Y_test))"
   ]
  },
  {
   "cell_type": "code",
   "execution_count": 120,
   "metadata": {
    "colab": {
     "base_uri": "https://localhost:8080/",
     "height": 315
    },
    "colab_type": "code",
    "id": "UlgMqvbIaP4t",
    "outputId": "7da1d0f2-3216-4e7e-a02e-67138eeaf1b1"
   },
   "outputs": [
    {
     "name": "stdout",
     "output_type": "stream",
     "text": [
      "Test score: 0.06599829901985359\n",
      "Test accuracy: 0.9818\n"
     ]
    },
    {
     "data": {
      "image/png": "[encoded data removed]",
      "text/plain": [
       "<matplotlib.figure.Figure at 0x7fea07eec9b0>"
      ]
     },
     "metadata": {
      "tags": []
     },
     "output_type": "display_data"
    }
   ],
   "source": [
    "score = model_relu.evaluate(X_test, Y_test, verbose=0)\n",
    "print('Test score:', score[0]) \n",
    "print('Test accuracy:', score[1])\n",
    "\n",
    "fig,ax = plt.subplots(1,1)\n",
    "ax.set_xlabel('epoch') ; ax.set_ylabel('Categorical Crossentropy Loss')\n",
    "\n",
    "# list of epoch numbers\n",
    "x = list(range(1,nb_epoch+1))\n",
    "\n",
    "# print(history.history.keys())\n",
    "# dict_keys(['val_loss', 'val_acc', 'loss', 'acc'])\n",
    "# history = model_drop.fit(X_train, Y_train, batch_size=batch_size, epochs=nb_epoch, verbose=1, validation_data=(X_test, Y_test))\n",
    "\n",
    "# we will get val_loss and val_acc only when you pass the paramter validation_data\n",
    "# val_loss : validation loss\n",
    "# val_acc : validation accuracy\n",
    "\n",
    "# loss : training loss\n",
    "# acc : train accuracy\n",
    "# for each key in histrory.histrory we will have a list of length equal to number of epochs\n",
    "\n",
    "\n",
    "vy = history.history['val_loss']\n",
    "ty = history.history['loss']\n",
    "plt_dynamic(x, vy, ty, ax, fig)"
   ]
  },
  {
   "cell_type": "markdown",
   "metadata": {
    "colab_type": "text",
    "id": "gNyR_zidoMv1"
   },
   "source": [
    "**3 Layer Architecture**"
   ]
  },
  {
   "cell_type": "code",
   "execution_count": 0,
   "metadata": {
    "colab": {},
    "colab_type": "code",
    "id": "Jc9-cIGGaP9R"
   },
   "outputs": [],
   "source": [
    "model_relu = Sequential()\n",
    "\n",
    "model_relu.add(Dense(458, activation='relu', input_shape=(input_dim,), kernel_initializer=he_normal(seed=None)))\n",
    "#model_relu.add(BatchNormalization())\n",
    "model_relu.add(Dropout(0.5))\n",
    "\n",
    "model_relu.add(Dense(256, activation='relu', kernel_initializer=he_normal(seed=None)))\n",
    "#model_relu.add(BatchNormalization())\n",
    "model_relu.add(Dropout(0.5))\n",
    "\n",
    "model_relu.add(Dense(64, activation='relu', kernel_initializer=he_normal(seed=None)))\n",
    "model_relu.add(BatchNormalization())\n",
    "model_relu.add(Dropout(0.5))\n",
    "\n",
    "model_relu.add(Dense(output_dim, activation='softmax'))\n",
    "\n",
    "\n",
    "\n",
    "#print(model_relu.summary())\n",
    "\n",
    "model_relu.compile(optimizer='adam', loss='categorical_crossentropy', metrics=['accuracy'])\n",
    "\n",
    "history = model_relu.fit(X_train, Y_train, batch_size=batch_size, epochs=nb_epoch, verbose=0, validation_data=(X_test, Y_test))"
   ]
  },
  {
   "cell_type": "code",
   "execution_count": 122,
   "metadata": {
    "colab": {
     "base_uri": "https://localhost:8080/",
     "height": 315
    },
    "colab_type": "code",
    "id": "za1Lbc2jaP_s",
    "outputId": "47dab952-4081-4a22-b177-b1849d20d5a0"
   },
   "outputs": [
    {
     "name": "stdout",
     "output_type": "stream",
     "text": [
      "Test score: 0.06503238941127201\n",
      "Test accuracy: 0.9837\n"
     ]
    },
    {
     "data": {
      "image/png": "[encoded data removed]",
      "text/plain": [
       "<matplotlib.figure.Figure at 0x7fea07e30828>"
      ]
     },
     "metadata": {
      "tags": []
     },
     "output_type": "display_data"
    }
   ],
   "source": [
    "score = model_relu.evaluate(X_test, Y_test, verbose=0)\n",
    "print('Test score:', score[0]) \n",
    "print('Test accuracy:', score[1])\n",
    "\n",
    "fig,ax = plt.subplots(1,1)\n",
    "ax.set_xlabel('epoch') ; ax.set_ylabel('Categorical Crossentropy Loss')\n",
    "\n",
    "# list of epoch numbers\n",
    "x = list(range(1,nb_epoch+1))\n",
    "\n",
    "# print(history.history.keys())\n",
    "# dict_keys(['val_loss', 'val_acc', 'loss', 'acc'])\n",
    "# history = model_drop.fit(X_train, Y_train, batch_size=batch_size, epochs=nb_epoch, verbose=1, validation_data=(X_test, Y_test))\n",
    "\n",
    "# we will get val_loss and val_acc only when you pass the paramter validation_data\n",
    "# val_loss : validation loss\n",
    "# val_acc : validation accuracy\n",
    "\n",
    "# loss : training loss\n",
    "# acc : train accuracy\n",
    "# for each key in histrory.histrory we will have a list of length equal to number of epochs\n",
    "\n",
    "\n",
    "vy = history.history['val_loss']\n",
    "ty = history.history['loss']\n",
    "plt_dynamic(x, vy, ty, ax, fig)"
   ]
  },
  {
   "cell_type": "markdown",
   "metadata": {
    "colab_type": "text",
    "id": "OeU56x0YrD70"
   },
   "source": [
    "**5 Layer Architecture**"
   ]
  },
  {
   "cell_type": "code",
   "execution_count": 0,
   "metadata": {
    "colab": {},
    "colab_type": "code",
    "id": "_4hPOvr3p4rj"
   },
   "outputs": [],
   "source": [
    "model_relu = Sequential()\n",
    "model_relu.add(Dense(512, activation='relu', input_shape=(input_dim,), kernel_initializer=he_normal(seed=None)))\n",
    "#model_relu.add(BatchNormalization())\n",
    "model_relu.add(Dropout(0.5))\n",
    "\n",
    "model_relu.add(Dense(256, activation='relu', kernel_initializer=he_normal(seed=None)))\n",
    "#model_relu.add(BatchNormalization())\n",
    "model_relu.add(Dropout(0.5))\n",
    "\n",
    "model_relu.add(Dense(64, activation='relu', kernel_initializer=he_normal(seed=None)))\n",
    "model_relu.add(BatchNormalization())\n",
    "model_relu.add(Dropout(0.5))\n",
    "\n",
    "model_relu.add(Dense(128, activation='relu', kernel_initializer=he_normal(seed=None)))\n",
    "model_relu.add(BatchNormalization())\n",
    "model_relu.add(Dropout(0.5))\n",
    "\n",
    "model_relu.add(Dense(32, activation='relu', kernel_initializer=he_normal(seed=None)))\n",
    "model_relu.add(BatchNormalization())\n",
    "model_relu.add(Dropout(0.5))\n",
    "\n",
    "model_relu.add(Dense(output_dim, activation='softmax'))\n",
    "\n",
    "\n",
    "\n",
    "#print(model_relu.summary())\n",
    "\n",
    "model_relu.compile(optimizer='adam', loss='categorical_crossentropy', metrics=['accuracy'])\n",
    "\n",
    "history = model_relu.fit(X_train, Y_train, batch_size=batch_size, epochs=nb_epoch, verbose=0, validation_data=(X_test, Y_test))"
   ]
  },
  {
   "cell_type": "code",
   "execution_count": 124,
   "metadata": {
    "colab": {
     "base_uri": "https://localhost:8080/",
     "height": 315
    },
    "colab_type": "code",
    "id": "M_8ECM7_p4pV",
    "outputId": "b6e1c63f-860e-4af1-922f-dc8873f815e2"
   },
   "outputs": [
    {
     "name": "stdout",
     "output_type": "stream",
     "text": [
      "Test score: 0.08667265413741115\n",
      "Test accuracy: 0.9808\n"
     ]
    },
    {
     "data": {
      "image/png": "[encoded data removed]",
      "text/plain": [
       "<matplotlib.figure.Figure at 0x7fea0763b518>"
      ]
     },
     "metadata": {
      "tags": []
     },
     "output_type": "display_data"
    }
   ],
   "source": [
    "score = model_relu.evaluate(X_test, Y_test, verbose=0)\n",
    "print('Test score:', score[0]) \n",
    "print('Test accuracy:', score[1])\n",
    "\n",
    "fig,ax = plt.subplots(1,1)\n",
    "ax.set_xlabel('epoch') ; ax.set_ylabel('Categorical Crossentropy Loss')\n",
    "\n",
    "# list of epoch numbers\n",
    "x = list(range(1,nb_epoch+1))\n",
    "\n",
    "# print(history.history.keys())\n",
    "# dict_keys(['val_loss', 'val_acc', 'loss', 'acc'])\n",
    "# history = model_drop.fit(X_train, Y_train, batch_size=batch_size, epochs=nb_epoch, verbose=1, validation_data=(X_test, Y_test))\n",
    "\n",
    "# we will get val_loss and val_acc only when you pass the paramter validation_data\n",
    "# val_loss : validation loss\n",
    "# val_acc : validation accuracy\n",
    "\n",
    "# loss : training loss\n",
    "# acc : train accuracy\n",
    "# for each key in histrory.histrory we will have a list of length equal to number of epochs\n",
    "\n",
    "\n",
    "vy = history.history['val_loss']\n",
    "ty = history.history['loss']\n",
    "\n",
    "plt_dynamic(x, vy, ty, ax, fig)"
   ]
  },
  {
   "cell_type": "markdown",
   "metadata": {
    "colab": {},
    "colab_type": "code",
    "id": "Y9p2OYX_xMyc"
   },
   "source": [
    "### Conclusion"
   ]
  },
  {
   "cell_type": "code",
   "execution_count": 2,
   "metadata": {},
   "outputs": [
    {
     "name": "stdout",
     "output_type": "stream",
     "text": [
      "+--------------+------------+---------------+\n",
      "| Architecture | Test score | Test accuracy |\n",
      "+--------------+------------+---------------+\n",
      "|   2 Layer    |   0.065    |      0.98     |\n",
      "|   3 Layer    |   0.065    |     0.9837    |\n",
      "|   5 Layer    |   0.0866   |     0.9808    |\n",
      "+--------------+------------+---------------+\n"
     ]
    }
   ],
   "source": [
    "from prettytable import PrettyTable\n",
    "    \n",
    "x = PrettyTable()\n",
    "\n",
    "x.field_names = [\"Architecture\",\"Test score\",\"Test accuracy\"]\n",
    "\n",
    "x.add_row([\"2 Layer\",0.065,0.98])\n",
    "x.add_row([\"3 Layer\",0.065,0.9837])\n",
    "x.add_row([\"5 Layer\",0.0866,0.9808])\n",
    "\n",
    "print(x)"
   ]
  },
  {
   "cell_type": "code",
   "execution_count": null,
   "metadata": {},
   "outputs": [],
   "source": []
  }
 ],
 "metadata": {
  "colab": {
   "collapsed_sections": [],
   "name": "MLP Architectures on  MNIST_Assignment",
   "provenance": [],
   "version": "0.3.2"
  },
  "kernelspec": {
   "display_name": "Python 3",
   "language": "python",
   "name": "python3"
  },
  "language_info": {
   "codemirror_mode": {
    "name": "ipython",
    "version": 3
   },
   "file_extension": ".py",
   "mimetype": "text/x-python",
   "name": "python",
   "nbconvert_exporter": "python",
   "pygments_lexer": "ipython3",
   "version": "3.6.5"
  }
 },
 "nbformat": 4,
 "nbformat_minor": 1
}
