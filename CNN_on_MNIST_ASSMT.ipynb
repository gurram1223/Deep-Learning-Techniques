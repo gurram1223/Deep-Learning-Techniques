{
 "cells": [
  {
   "cell_type": "markdown",
   "metadata": {},
   "source": [
    "# CNN on MNIST Assignment"
   ]
  },
  {
   "cell_type": "code",
   "execution_count": 2,
   "metadata": {
    "colab": {
     "base_uri": "https://localhost:8080/",
     "height": 35
    },
    "colab_type": "code",
    "id": "VoaSfyfYA2Uc",
    "outputId": "0877805d-a8a9-4237-e9e4-45f37b60795d"
   },
   "outputs": [
    {
     "name": "stderr",
     "output_type": "stream",
     "text": [
      "Using TensorFlow backend.\n"
     ]
    }
   ],
   "source": [
    "from __future__ import print_function\n",
    "import keras\n",
    "from keras.datasets import mnist\n",
    "from keras.models import Sequential\n",
    "from keras.layers import Dense, Dropout, Flatten\n",
    "from keras.layers import Conv2D, MaxPooling2D\n",
    "from keras import backend as K\n",
    "from keras.layers.normalization import BatchNormalization\n",
    "from keras.initializers import RandomNormal\n",
    "from keras.initializers import he_normal\n"
   ]
  },
  {
   "cell_type": "code",
   "execution_count": 0,
   "metadata": {
    "colab": {},
    "colab_type": "code",
    "id": "uBTsGlOkGPEz"
   },
   "outputs": [],
   "source": [
    "%matplotlib inline\n",
    "import matplotlib.pyplot as plt\n",
    "import numpy as np\n",
    "import time\n",
    "\n",
    "# this function is used to update the plots for each epoch and error\n",
    "def plt_dynamic(x, vy, ty, ax, fig):\n",
    "    ax.plot(x, vy, 'b', label=\"Validation Loss\")\n",
    "    ax.plot(x, ty, 'r', label=\"Train Loss\")\n",
    "    plt.legend()\n",
    "    plt.grid()\n",
    "    fig.canvas.draw()"
   ]
  },
  {
   "cell_type": "code",
   "execution_count": 0,
   "metadata": {
    "colab": {},
    "colab_type": "code",
    "id": "tOfhakKXCuEe"
   },
   "outputs": [],
   "source": [
    "\n",
    "batch_size = 128\n",
    "num_classes = 10\n",
    "epochs = 12\n",
    "\n",
    "# input image dimensions\n",
    "img_rows, img_cols = 28, 28\n",
    "\n",
    "# the data, split between train and test sets\n",
    "(x_train, y_train), (x_test, y_test) = mnist.load_data()"
   ]
  },
  {
   "cell_type": "code",
   "execution_count": 5,
   "metadata": {
    "colab": {
     "base_uri": "https://localhost:8080/",
     "height": 284
    },
    "colab_type": "code",
    "id": "QmAt_vTKHURS",
    "outputId": "97c33ae1-1b24-4e79-a994-37a77f5445a1"
   },
   "outputs": [
    {
     "data": {
      "text/plain": [
       "<matplotlib.image.AxesImage at 0x7f464f106358>"
      ]
     },
     "execution_count": 5,
     "metadata": {
      "tags": []
     },
     "output_type": "execute_result"
    },
    {
     "data": {
      "image/png": "[encoded data removed]",
      "text/plain": [
       "<matplotlib.figure.Figure at 0x7f465dcac7f0>"
      ]
     },
     "metadata": {
      "tags": []
     },
     "output_type": "display_data"
    }
   ],
   "source": [
    "#plot the first image in the dataset\n",
    "plt.imshow(x_train[0])"
   ]
  },
  {
   "cell_type": "code",
   "execution_count": 0,
   "metadata": {
    "colab": {},
    "colab_type": "code",
    "id": "NdY0wCcTCvAn"
   },
   "outputs": [],
   "source": [
    "\n",
    "if K.image_data_format() == 'channels_first':\n",
    "    x_train = x_train.reshape(x_train.shape[0], 1, img_rows, img_cols)\n",
    "    x_test = x_test.reshape(x_test.shape[0], 1, img_rows, img_cols)\n",
    "    input_shape = (1, img_rows, img_cols)\n",
    "else:\n",
    "    x_train = x_train.reshape(x_train.shape[0], img_rows, img_cols, 1)\n",
    "    x_test = x_test.reshape(x_test.shape[0], img_rows, img_cols, 1)\n",
    "    input_shape = (img_rows, img_cols, 1)"
   ]
  },
  {
   "cell_type": "code",
   "execution_count": 7,
   "metadata": {
    "colab": {
     "base_uri": "https://localhost:8080/",
     "height": 90
    },
    "colab_type": "code",
    "id": "BLNThNMBCxFI",
    "outputId": "6cbe568e-f2ac-4113-8a63-fee607aa89e6"
   },
   "outputs": [
    {
     "name": "stdout",
     "output_type": "stream",
     "text": [
      "x_train shape: (60000, 28, 28, 1)\n",
      "x_test shape: (10000, 28, 28, 1)\n",
      "60000 train samples\n",
      "10000 test samples\n"
     ]
    }
   ],
   "source": [
    "x_train = x_train.astype('float32')\n",
    "x_test = x_test.astype('float32')\n",
    "\n",
    "# Normalizing the data\n",
    "x_train /= 255\n",
    "x_test /= 255\n",
    "\n",
    "print('x_train shape:', x_train.shape)\n",
    "print('x_test shape:', x_test.shape)\n",
    "print(x_train.shape[0], 'train samples')\n",
    "print(x_test.shape[0], 'test samples')\n",
    "\n",
    "# convert class vectors to binary class matrices\n",
    "y_train = keras.utils.to_categorical(y_train, num_classes)\n",
    "y_test = keras.utils.to_categorical(y_test, num_classes)"
   ]
  },
  {
   "cell_type": "markdown",
   "metadata": {
    "colab_type": "text",
    "id": "-eaN9zqMgwED"
   },
   "source": [
    "**3 Convolutional Layers**"
   ]
  },
  {
   "cell_type": "code",
   "execution_count": 11,
   "metadata": {
    "colab": {
     "base_uri": "https://localhost:8080/",
     "height": 472
    },
    "colab_type": "code",
    "id": "M6Q1Gk6XBFcU",
    "outputId": "a36e1daa-2b23-4d35-fb38-c61b9eca7898"
   },
   "outputs": [
    {
     "name": "stdout",
     "output_type": "stream",
     "text": [
      "Train on 60000 samples, validate on 10000 samples\n",
      "Epoch 1/12\n",
      "60000/60000 [==============================] - 155s 3ms/step - loss: 0.3946 - acc: 0.8746 - val_loss: 0.0578 - val_acc: 0.9827\n",
      "Epoch 2/12\n",
      "60000/60000 [==============================] - 154s 3ms/step - loss: 0.1072 - acc: 0.9672 - val_loss: 0.0410 - val_acc: 0.9854\n",
      "Epoch 3/12\n",
      "60000/60000 [==============================] - 153s 3ms/step - loss: 0.0820 - acc: 0.9746 - val_loss: 0.0324 - val_acc: 0.9897\n",
      "Epoch 4/12\n",
      "60000/60000 [==============================] - 153s 3ms/step - loss: 0.0674 - acc: 0.9790 - val_loss: 0.0252 - val_acc: 0.9913\n",
      "Epoch 5/12\n",
      "60000/60000 [==============================] - 153s 3ms/step - loss: 0.0607 - acc: 0.9810 - val_loss: 0.0250 - val_acc: 0.9916\n",
      "Epoch 6/12\n",
      "60000/60000 [==============================] - 153s 3ms/step - loss: 0.0539 - acc: 0.9832 - val_loss: 0.0237 - val_acc: 0.9914\n",
      "Epoch 7/12\n",
      "60000/60000 [==============================] - 153s 3ms/step - loss: 0.0484 - acc: 0.9851 - val_loss: 0.0241 - val_acc: 0.9925\n",
      "Epoch 8/12\n",
      "60000/60000 [==============================] - 153s 3ms/step - loss: 0.0452 - acc: 0.9855 - val_loss: 0.0241 - val_acc: 0.9915\n",
      "Epoch 9/12\n",
      "60000/60000 [==============================] - 154s 3ms/step - loss: 0.0440 - acc: 0.9860 - val_loss: 0.0204 - val_acc: 0.9936\n",
      "Epoch 10/12\n",
      "60000/60000 [==============================] - 154s 3ms/step - loss: 0.0387 - acc: 0.9878 - val_loss: 0.0214 - val_acc: 0.9929\n",
      "Epoch 11/12\n",
      "60000/60000 [==============================] - 154s 3ms/step - loss: 0.0369 - acc: 0.9883 - val_loss: 0.0222 - val_acc: 0.9923\n",
      "Epoch 12/12\n",
      "60000/60000 [==============================] - 153s 3ms/step - loss: 0.0360 - acc: 0.9886 - val_loss: 0.0191 - val_acc: 0.9935\n"
     ]
    }
   ],
   "source": [
    "model = Sequential()\n",
    "\n",
    "model.add(Conv2D(32, kernel_size=(3, 3),activation='relu',padding='same',input_shape=input_shape,kernel_initializer='he_normal'))\n",
    "model.add(MaxPooling2D(pool_size=(2, 2)))\n",
    "\n",
    "model.add(Conv2D(56, (2, 2), activation='relu',padding='same',kernel_initializer='he_normal'))          \n",
    "model.add(MaxPooling2D(pool_size=(2, 2)))\n",
    "model.add(Dropout(0.5))\n",
    "          \n",
    "model.add(Conv2D(64, (7, 7), activation='relu',padding='same',kernel_initializer='he_normal'))            \n",
    "model.add(MaxPooling2D(pool_size=(2, 2)))\n",
    "model.add(Dropout(0.25))\n",
    "model.add(BatchNormalization())\n",
    "                 \n",
    "model.add(Flatten())\n",
    "                 \n",
    "model.add(Dense(256, activation='relu', kernel_initializer='he_normal'))\n",
    "model.add(Dropout(0.5))\n",
    "model.add(BatchNormalization())\n",
    "                 \n",
    "model.add(Dense(num_classes, activation='softmax'))\n",
    "\n",
    "model.compile(loss=keras.losses.categorical_crossentropy,optimizer=keras.optimizers.Adam(),metrics=['accuracy'])\n",
    "\n",
    "history = model.fit(x_train, y_train, batch_size=batch_size, epochs=epochs, verbose=1, validation_data=(x_test, y_test))\n"
   ]
  },
  {
   "cell_type": "code",
   "execution_count": 13,
   "metadata": {
    "colab": {
     "base_uri": "https://localhost:8080/",
     "height": 315
    },
    "colab_type": "code",
    "id": "1hWYtwxwCsJ-",
    "outputId": "a83cf17f-ffbe-4dba-cce1-73645366835c"
   },
   "outputs": [
    {
     "name": "stdout",
     "output_type": "stream",
     "text": [
      "Test loss: 0.019146056534175296\n",
      "Test accuracy: 0.9935\n"
     ]
    },
    {
     "data": {
      "image/png": "[encoded data removed]",
      "text/plain": [
       "<matplotlib.figure.Figure at 0x7f464610e400>"
      ]
     },
     "metadata": {
      "tags": []
     },
     "output_type": "display_data"
    }
   ],
   "source": [
    "score = model.evaluate(x_test, y_test, verbose=0)\n",
    "print('Test loss:', score[0])\n",
    "print('Test accuracy:', score[1])\n",
    "\n",
    "fig,ax = plt.subplots(1,1)\n",
    "ax.set_xlabel('epoch') ; ax.set_ylabel('Categorical Crossentropy Loss')\n",
    "\n",
    "# list of epoch numbers\n",
    "x = list(range(1,epochs+1))\n",
    "\n",
    "# print(history.history.keys())\n",
    "# dict_keys(['val_loss', 'val_acc', 'loss', 'acc'])\n",
    "# history = model_drop.fit(X_train, Y_train, batch_size=batch_size, epochs=nb_epoch, verbose=1, validation_data=(X_test, Y_test))\n",
    "\n",
    "# we will get val_loss and val_acc only when you pass the paramter validation_data\n",
    "# val_loss : validation loss\n",
    "# val_acc : validation accuracy\n",
    "\n",
    "# loss : training loss\n",
    "# acc : train accuracy\n",
    "# for each key in histrory.histrory we will have a list of length equal to number of epochs\n",
    "\n",
    "\n",
    "vy = history.history['val_loss']\n",
    "ty = history.history['loss']\n",
    "plt_dynamic(x, vy, ty, ax, fig)"
   ]
  },
  {
   "cell_type": "markdown",
   "metadata": {
    "colab_type": "text",
    "id": "Tl1F5aKThzKJ"
   },
   "source": [
    "**5 Convolutional Layers**"
   ]
  },
  {
   "cell_type": "code",
   "execution_count": 17,
   "metadata": {
    "colab": {
     "base_uri": "https://localhost:8080/",
     "height": 472
    },
    "colab_type": "code",
    "id": "UF1iE_wwgqC1",
    "outputId": "88028524-4a40-41c3-9958-ea51f95fcb84"
   },
   "outputs": [
    {
     "name": "stdout",
     "output_type": "stream",
     "text": [
      "Train on 60000 samples, validate on 10000 samples\n",
      "Epoch 1/12\n",
      "60000/60000 [==============================] - 483s 8ms/step - loss: 0.9169 - acc: 0.7087 - val_loss: 0.1797 - val_acc: 0.9453\n",
      "Epoch 2/12\n",
      "60000/60000 [==============================] - 474s 8ms/step - loss: 0.1709 - acc: 0.9534 - val_loss: 0.0493 - val_acc: 0.9854\n",
      "Epoch 3/12\n",
      "60000/60000 [==============================] - 479s 8ms/step - loss: 0.1148 - acc: 0.9684 - val_loss: 0.0327 - val_acc: 0.9896\n",
      "Epoch 4/12\n",
      "60000/60000 [==============================] - 475s 8ms/step - loss: 0.0901 - acc: 0.9760 - val_loss: 0.0378 - val_acc: 0.9883\n",
      "Epoch 5/12\n",
      "60000/60000 [==============================] - 477s 8ms/step - loss: 0.0805 - acc: 0.9784 - val_loss: 0.0255 - val_acc: 0.9927\n",
      "Epoch 6/12\n",
      "60000/60000 [==============================] - 484s 8ms/step - loss: 0.0719 - acc: 0.9802 - val_loss: 0.0257 - val_acc: 0.9929\n",
      "Epoch 7/12\n",
      "60000/60000 [==============================] - 479s 8ms/step - loss: 0.0651 - acc: 0.9826 - val_loss: 0.0221 - val_acc: 0.9934\n",
      "Epoch 8/12\n",
      "60000/60000 [==============================] - 478s 8ms/step - loss: 0.0614 - acc: 0.9835 - val_loss: 0.0224 - val_acc: 0.9931\n",
      "Epoch 9/12\n",
      "60000/60000 [==============================] - 477s 8ms/step - loss: 0.0553 - acc: 0.9850 - val_loss: 0.0301 - val_acc: 0.9923\n",
      "Epoch 10/12\n",
      "60000/60000 [==============================] - 482s 8ms/step - loss: 0.0543 - acc: 0.9852 - val_loss: 0.0221 - val_acc: 0.9941\n",
      "Epoch 11/12\n",
      "60000/60000 [==============================] - 484s 8ms/step - loss: 0.0484 - acc: 0.9869 - val_loss: 0.0214 - val_acc: 0.9939\n",
      "Epoch 12/12\n",
      "60000/60000 [==============================] - 484s 8ms/step - loss: 0.0498 - acc: 0.9867 - val_loss: 0.0192 - val_acc: 0.9945\n"
     ]
    }
   ],
   "source": [
    "model = Sequential()\n",
    "\n",
    "model.add(Conv2D(16, kernel_size=(3, 3),activation='relu',padding='same',input_shape=input_shape,kernel_initializer='he_normal'))\n",
    "\n",
    "\n",
    "model.add(Conv2D(64, (4, 4), activation='relu',padding='same',kernel_initializer='he_normal'))          \n",
    "model.add(Dropout(0.2))\n",
    "\n",
    "model.add(Conv2D(32, (2, 2), activation='relu',padding='same',kernel_initializer='he_normal'))          \n",
    "model.add(MaxPooling2D(pool_size=(2, 2)))\n",
    "model.add(Dropout(0.3))\n",
    "\n",
    "model.add(Conv2D(48, (6, 6), activation='relu',padding='same',kernel_initializer='he_normal'))          \n",
    "model.add(MaxPooling2D(pool_size=(3, 3)))\n",
    "model.add(Dropout(0.5))\n",
    "model.add(BatchNormalization())\n",
    "\n",
    "model.add(Conv2D(75, (7, 7), activation='relu',padding='same',kernel_initializer='he_normal'))            \n",
    "model.add(MaxPooling2D(pool_size=(2, 2)))\n",
    "model.add(Dropout(0.25))\n",
    "model.add(BatchNormalization())\n",
    "                 \n",
    "model.add(Flatten())\n",
    "                 \n",
    "model.add(Dense(256, activation='relu', kernel_initializer='he_normal'))\n",
    "model.add(Dropout(0.5))\n",
    "model.add(BatchNormalization())\n",
    "\n",
    "model.add(Dense(128, activation='relu', kernel_initializer='he_normal'))\n",
    "model.add(Dropout(0.5))\n",
    "model.add(BatchNormalization())\n",
    "                 \n",
    "model.add(Dense(num_classes, activation='softmax'))\n",
    "\n",
    "model.compile(loss=keras.losses.categorical_crossentropy,optimizer=keras.optimizers.Adam(),metrics=['accuracy'])\n",
    "\n",
    "history = model.fit(x_train, y_train, batch_size=batch_size, epochs=epochs, verbose=1, validation_data=(x_test, y_test))\n"
   ]
  },
  {
   "cell_type": "code",
   "execution_count": 18,
   "metadata": {
    "colab": {
     "base_uri": "https://localhost:8080/",
     "height": 315
    },
    "colab_type": "code",
    "id": "qz0Y9NS5olCd",
    "outputId": "93e87736-d746-495e-f6a7-fb07de6c6136"
   },
   "outputs": [
    {
     "name": "stdout",
     "output_type": "stream",
     "text": [
      "Test loss: 0.019213508488982917\n",
      "Test accuracy: 0.9945\n"
     ]
    },
    {
     "data": {
      "image/png": "[encoded data removed]",
      "text/plain": [
       "<matplotlib.figure.Figure at 0x7f464345c6d8>"
      ]
     },
     "metadata": {
      "tags": []
     },
     "output_type": "display_data"
    }
   ],
   "source": [
    "score = model.evaluate(x_test, y_test, verbose=0)\n",
    "print('Test loss:', score[0])\n",
    "print('Test accuracy:', score[1])\n",
    "\n",
    "fig,ax = plt.subplots(1,1)\n",
    "ax.set_xlabel('epoch') ; ax.set_ylabel('Categorical Crossentropy Loss')\n",
    "\n",
    "# list of epoch numbers\n",
    "x = list(range(1,epochs+1))\n",
    "\n",
    "# print(history.history.keys())\n",
    "# dict_keys(['val_loss', 'val_acc', 'loss', 'acc'])\n",
    "# history = model_drop.fit(X_train, Y_train, batch_size=batch_size, epochs=nb_epoch, verbose=1, validation_data=(X_test, Y_test))\n",
    "\n",
    "# we will get val_loss and val_acc only when you pass the paramter validation_data\n",
    "# val_loss : validation loss\n",
    "# val_acc : validation accuracy\n",
    "\n",
    "# loss : training loss\n",
    "# acc : train accuracy\n",
    "# for each key in histrory.histrory we will have a list of length equal to number of epochs\n",
    "\n",
    "\n",
    "vy = history.history['val_loss']\n",
    "ty = history.history['loss']\n",
    "plt_dynamic(x, vy, ty, ax, fig)"
   ]
  },
  {
   "cell_type": "markdown",
   "metadata": {
    "colab_type": "text",
    "id": "QdyZIF3Wxguj"
   },
   "source": [
    "**7 Convolutinal Layers**"
   ]
  },
  {
   "cell_type": "code",
   "execution_count": 22,
   "metadata": {
    "colab": {
     "base_uri": "https://localhost:8080/",
     "height": 472
    },
    "colab_type": "code",
    "id": "gW1Mc9J4xD68",
    "outputId": "11a22e5e-5ede-4f44-d105-ed878043e78e"
   },
   "outputs": [
    {
     "name": "stdout",
     "output_type": "stream",
     "text": [
      "Train on 60000 samples, validate on 10000 samples\n",
      "Epoch 1/12\n",
      "60000/60000 [==============================] - 949s 16ms/step - loss: 1.7727 - acc: 0.3808 - val_loss: 1.1725 - val_acc: 0.5277\n",
      "Epoch 2/12\n",
      "60000/60000 [==============================] - 945s 16ms/step - loss: 0.7809 - acc: 0.7491 - val_loss: 1.4365 - val_acc: 0.4784\n",
      "Epoch 3/12\n",
      "60000/60000 [==============================] - 944s 16ms/step - loss: 0.5319 - acc: 0.8458 - val_loss: 0.8908 - val_acc: 0.6959\n",
      "Epoch 4/12\n",
      "60000/60000 [==============================] - 955s 16ms/step - loss: 0.4274 - acc: 0.8816 - val_loss: 0.5441 - val_acc: 0.8189\n",
      "Epoch 5/12\n",
      "60000/60000 [==============================] - 963s 16ms/step - loss: 0.3558 - acc: 0.9024 - val_loss: 0.4254 - val_acc: 0.8661\n",
      "Epoch 6/12\n",
      "60000/60000 [==============================] - 965s 16ms/step - loss: 0.3082 - acc: 0.9166 - val_loss: 0.3840 - val_acc: 0.8808\n",
      "Epoch 7/12\n",
      "60000/60000 [==============================] - 972s 16ms/step - loss: 0.2742 - acc: 0.9278 - val_loss: 0.4351 - val_acc: 0.8704\n",
      "Epoch 8/12\n",
      "60000/60000 [==============================] - 966s 16ms/step - loss: 0.2478 - acc: 0.9348 - val_loss: 0.3255 - val_acc: 0.9055\n",
      "Epoch 9/12\n",
      "60000/60000 [==============================] - 952s 16ms/step - loss: 0.2247 - acc: 0.9413 - val_loss: 0.2321 - val_acc: 0.9334\n",
      "Epoch 10/12\n",
      "60000/60000 [==============================] - 970s 16ms/step - loss: 0.2093 - acc: 0.9452 - val_loss: 0.1288 - val_acc: 0.9624\n",
      "Epoch 11/12\n",
      "60000/60000 [==============================] - 966s 16ms/step - loss: 0.1977 - acc: 0.9476 - val_loss: 0.1614 - val_acc: 0.9533\n",
      "Epoch 12/12\n",
      "60000/60000 [==============================] - 964s 16ms/step - loss: 0.1831 - acc: 0.9536 - val_loss: 0.1727 - val_acc: 0.9509\n"
     ]
    }
   ],
   "source": [
    "model = Sequential()\n",
    "\n",
    "model.add(Conv2D(32, kernel_size=(3, 3),activation='relu',padding='same',input_shape=input_shape,kernel_initializer='he_normal'))\n",
    "\n",
    "\n",
    "model.add(Conv2D(64, (4, 4), activation='relu',padding='same',kernel_initializer='he_normal'))          \n",
    "model.add(Dropout(0.5))\n",
    "\n",
    "model.add(Conv2D(56, (2, 2), activation='relu',padding='same',kernel_initializer='he_normal'))          \n",
    "model.add(Dropout(0.3))\n",
    "\n",
    "model.add(Conv2D(52, (3, 3), activation='relu',padding='same',kernel_initializer='he_normal'))          \n",
    "model.add(Dropout(0.5))\n",
    "\n",
    "model.add(Conv2D(38, (2, 2), activation='relu',padding='same',kernel_initializer='he_normal'))          \n",
    "model.add(MaxPooling2D(pool_size=(3, 3)))\n",
    "model.add(Dropout(0.5))\n",
    "\n",
    "model.add(Conv2D(46, (3, 3), activation='relu',padding='same',kernel_initializer='he_normal'))          \n",
    "model.add(MaxPooling2D(pool_size=(3, 3)))\n",
    "model.add(Dropout(0.5))\n",
    "model.add(BatchNormalization())\n",
    "\n",
    "model.add(Conv2D(75, (7, 7), activation='relu',padding='same',kernel_initializer='he_normal'))            \n",
    "model.add(MaxPooling2D(pool_size=(2, 2)))\n",
    "model.add(Dropout(0.25))\n",
    "model.add(BatchNormalization())\n",
    "                 \n",
    "model.add(Flatten())\n",
    "                 \n",
    "model.add(Dense(64, activation='relu', kernel_initializer='he_normal'))\n",
    "model.add(Dropout(0.5))\n",
    "model.add(BatchNormalization())\n",
    "\n",
    "model.add(Dense(132, activation='relu', kernel_initializer='he_normal'))\n",
    "model.add(Dropout(0.5))\n",
    "model.add(BatchNormalization())\n",
    "                 \n",
    "model.add(Dense(num_classes, activation='softmax'))\n",
    "\n",
    "model.compile(loss=keras.losses.categorical_crossentropy,optimizer=keras.optimizers.Adam(),metrics=['accuracy'])\n",
    "\n",
    "history = model.fit(x_train, y_train, batch_size=batch_size, epochs=epochs, verbose=1, validation_data=(x_test, y_test))\n"
   ]
  },
  {
   "cell_type": "code",
   "execution_count": 23,
   "metadata": {
    "colab": {
     "base_uri": "https://localhost:8080/",
     "height": 315
    },
    "colab_type": "code",
    "id": "Rg5a1adtxnv3",
    "outputId": "531563df-404a-4ad8-d2ff-da8638b39e9e"
   },
   "outputs": [
    {
     "name": "stdout",
     "output_type": "stream",
     "text": [
      "Test loss: 0.17265315302610398\n",
      "Test accuracy: 0.9509\n"
     ]
    },
    {
     "data": {
      "image/png": "[encoded data removed]",
      "text/plain": [
       "<matplotlib.figure.Figure at 0x7f46419f8b70>"
      ]
     },
     "metadata": {
      "tags": []
     },
     "output_type": "display_data"
    }
   ],
   "source": [
    "score = model.evaluate(x_test, y_test, verbose=0)\n",
    "print('Test loss:', score[0])\n",
    "print('Test accuracy:', score[1])\n",
    "\n",
    "fig,ax = plt.subplots(1,1)\n",
    "ax.set_xlabel('epoch') ; ax.set_ylabel('Categorical Crossentropy Loss')\n",
    "\n",
    "# list of epoch numbers\n",
    "x = list(range(1,epochs+1))\n",
    "\n",
    "# print(history.history.keys())\n",
    "# dict_keys(['val_loss', 'val_acc', 'loss', 'acc'])\n",
    "# history = model_drop.fit(X_train, Y_train, batch_size=batch_size, epochs=nb_epoch, verbose=1, validation_data=(X_test, Y_test))\n",
    "\n",
    "# we will get val_loss and val_acc only when you pass the paramter validation_data\n",
    "# val_loss : validation loss\n",
    "# val_acc : validation accuracy\n",
    "\n",
    "# loss : training loss\n",
    "# acc : train accuracy\n",
    "# for each key in histrory.histrory we will have a list of length equal to number of epochs\n",
    "\n",
    "\n",
    "vy = history.history['val_loss']\n",
    "ty = history.history['loss']\n",
    "plt_dynamic(x, vy, ty, ax, fig)"
   ]
  },
  {
   "cell_type": "markdown",
   "metadata": {
    "colab": {},
    "colab_type": "code",
    "id": "EKW_PzgZxor6"
   },
   "source": [
    "### Conclusion:"
   ]
  },
  {
   "cell_type": "code",
   "execution_count": 2,
   "metadata": {},
   "outputs": [
    {
     "name": "stdout",
     "output_type": "stream",
     "text": [
      "+--------------+------------+---------------+\n",
      "| Architecture | Test score | Test accuracy |\n",
      "+--------------+------------+---------------+\n",
      "|   3 Layer    |   0.019    |     0.9935    |\n",
      "|   5 Layer    |   0.019    |     0.9945    |\n",
      "|   7 Layer    |   0.172    |     0.9509    |\n",
      "+--------------+------------+---------------+\n"
     ]
    }
   ],
   "source": [
    "from prettytable import PrettyTable\n",
    "    \n",
    "x = PrettyTable()\n",
    "\n",
    "x.field_names = [\"Architecture\",\"Test score\",\"Test accuracy\"]\n",
    "\n",
    "x.add_row([\"3 Layer\",0.019,0.9935])\n",
    "x.add_row([\"5 Layer\",0.019,0.9945])\n",
    "x.add_row([\"7 Layer\",0.172,0.9509])\n",
    "\n",
    "print(x)"
   ]
  },
  {
   "cell_type": "code",
   "execution_count": null,
   "metadata": {},
   "outputs": [],
   "source": []
  }
 ],
 "metadata": {
  "colab": {
   "collapsed_sections": [],
   "name": "CNN on MNIST ASSMT.ipynb",
   "provenance": [],
   "version": "0.3.2"
  },
  "kernelspec": {
   "display_name": "Python 3",
   "language": "python",
   "name": "python3"
  },
  "language_info": {
   "codemirror_mode": {
    "name": "ipython",
    "version": 3
   },
   "file_extension": ".py",
   "mimetype": "text/x-python",
   "name": "python",
   "nbconvert_exporter": "python",
   "pygments_lexer": "ipython3",
   "version": "3.6.5"
  }
 },
 "nbformat": 4,
 "nbformat_minor": 1
}
